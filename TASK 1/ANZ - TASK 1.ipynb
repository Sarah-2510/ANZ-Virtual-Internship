{
 "cells": [
  {
   "cell_type": "markdown",
   "id": "ffea44fd",
   "metadata": {},
   "source": [
    "# ANZ VIRTUAL INTERNSHIP PROJECT"
   ]
  },
  {
   "cell_type": "markdown",
   "id": "854fc95e",
   "metadata": {},
   "source": [
    "## TASK 1 : Exploratory Data Analysis"
   ]
  },
  {
   "cell_type": "markdown",
   "id": "f02f5cab",
   "metadata": {},
   "source": [
    "### 1. Data : \n",
    "##### The data is provided by the Data ANZ itself when we enroll ourselves in their program. "
   ]
  },
  {
   "cell_type": "markdown",
   "id": "d7e4e382",
   "metadata": {},
   "source": [
    "### 2. Features :\n",
    "\n",
    "*status* : denotes the status of the transaction posted or authorized for transaction.\n",
    "\n",
    "*card_present_flag* : Did the customer have a card during the transaction (1.1 = Yes or 0.0 = No).\n",
    "\n",
    "*bpay_biller_code* : unique code of the BPay Transaction done by the customer.\n",
    "\n",
    "*account* : account number of the customers who made transaction.\n",
    "\n",
    "*currency* : currency type in which the transaction has been done (AUD dollars).\n",
    "\n",
    "*long_lat* : Longitude and Latitude location of the customer.\n",
    "\n",
    "*txn_description* : the mode of transaction the customer has done.\n",
    "\n",
    "*merchant_id* : the merchant id where the customers have done their transaction.\n",
    "\n",
    "*merChant_code* : unique merchant code for each customer.\n",
    "\n",
    "*first_name* : first name of the customer.\n",
    "\n",
    "*balance* : balance the customer had during the transaction of period 3 months.\n",
    "\n",
    "*date* : date when the transaction took place.\n",
    "\n",
    "*gender* : gender of the customer(Male or Female).\n",
    "\n",
    "*age* : age of the customer.\n",
    "\n",
    "*merchant_suburb* : the district or city where the merchant is located.\n",
    "\n",
    "*merchant_state* : the state where the merchant is located.\n",
    "\n",
    "*extraction* : extraction of the transaction data.\n",
    "\n",
    "*amount* : the amount transacted by the customer.\n",
    "\n",
    "*transaction_id* : unique transaction id given by the merchant when the customer makes an transaction.\n",
    "\n",
    "*country* : country where the customer's are located (Australia).\n",
    "\n",
    "*customer_id* = id for the customer's to differentiate them as unique.\n",
    "\n",
    "*merchant_long_lat* : the latitude and longitude location of the merchant.\n",
    "\n",
    "*movement* : mode of transaction (credit or debit)."
   ]
  },
  {
   "cell_type": "markdown",
   "id": "1668ec06",
   "metadata": {},
   "source": [
    "### Loading the libraries"
   ]
  },
  {
   "cell_type": "code",
   "execution_count": 2,
   "id": "2448b823",
   "metadata": {},
   "outputs": [],
   "source": [
    "import pandas as pd # data analytical library\n",
    "import numpy as np #fast linear algebra\n",
    "import matplotlib.pyplot as plt #visualization\n",
    "import seaborn as sns #statistical visualization"
   ]
  },
  {
   "cell_type": "markdown",
   "id": "876c565b",
   "metadata": {},
   "source": [
    "### Reading the  dataset"
   ]
  },
  {
   "cell_type": "code",
   "execution_count": 3,
   "id": "b13fda57",
   "metadata": {},
   "outputs": [],
   "source": [
    "df = pd.read_excel(\"ANZ synthesised transaction dataset.xlsx\")"
   ]
  },
  {
   "cell_type": "code",
   "execution_count": 4,
   "id": "8b57a394",
   "metadata": {},
   "outputs": [
    {
     "data": {
      "text/html": [
       "<div>\n",
       "<style scoped>\n",
       "    .dataframe tbody tr th:only-of-type {\n",
       "        vertical-align: middle;\n",
       "    }\n",
       "\n",
       "    .dataframe tbody tr th {\n",
       "        vertical-align: top;\n",
       "    }\n",
       "\n",
       "    .dataframe thead th {\n",
       "        text-align: right;\n",
       "    }\n",
       "</style>\n",
       "<table border=\"1\" class=\"dataframe\">\n",
       "  <thead>\n",
       "    <tr style=\"text-align: right;\">\n",
       "      <th></th>\n",
       "      <th>status</th>\n",
       "      <th>card_present_flag</th>\n",
       "      <th>bpay_biller_code</th>\n",
       "      <th>account</th>\n",
       "      <th>currency</th>\n",
       "      <th>long_lat</th>\n",
       "      <th>txn_description</th>\n",
       "      <th>merchant_id</th>\n",
       "      <th>merchant_code</th>\n",
       "      <th>first_name</th>\n",
       "      <th>...</th>\n",
       "      <th>age</th>\n",
       "      <th>merchant_suburb</th>\n",
       "      <th>merchant_state</th>\n",
       "      <th>extraction</th>\n",
       "      <th>amount</th>\n",
       "      <th>transaction_id</th>\n",
       "      <th>country</th>\n",
       "      <th>customer_id</th>\n",
       "      <th>merchant_long_lat</th>\n",
       "      <th>movement</th>\n",
       "    </tr>\n",
       "  </thead>\n",
       "  <tbody>\n",
       "    <tr>\n",
       "      <th>0</th>\n",
       "      <td>authorized</td>\n",
       "      <td>1.0</td>\n",
       "      <td>NaN</td>\n",
       "      <td>ACC-1598451071</td>\n",
       "      <td>AUD</td>\n",
       "      <td>153.41 -27.95</td>\n",
       "      <td>POS</td>\n",
       "      <td>81c48296-73be-44a7-befa-d053f48ce7cd</td>\n",
       "      <td>NaN</td>\n",
       "      <td>Diana</td>\n",
       "      <td>...</td>\n",
       "      <td>26</td>\n",
       "      <td>Ashmore</td>\n",
       "      <td>QLD</td>\n",
       "      <td>2018-08-01T01:01:15.000+0000</td>\n",
       "      <td>16.25</td>\n",
       "      <td>a623070bfead4541a6b0fff8a09e706c</td>\n",
       "      <td>Australia</td>\n",
       "      <td>CUS-2487424745</td>\n",
       "      <td>153.38 -27.99</td>\n",
       "      <td>debit</td>\n",
       "    </tr>\n",
       "    <tr>\n",
       "      <th>1</th>\n",
       "      <td>authorized</td>\n",
       "      <td>0.0</td>\n",
       "      <td>NaN</td>\n",
       "      <td>ACC-1598451071</td>\n",
       "      <td>AUD</td>\n",
       "      <td>153.41 -27.95</td>\n",
       "      <td>SALES-POS</td>\n",
       "      <td>830a451c-316e-4a6a-bf25-e37caedca49e</td>\n",
       "      <td>NaN</td>\n",
       "      <td>Diana</td>\n",
       "      <td>...</td>\n",
       "      <td>26</td>\n",
       "      <td>Sydney</td>\n",
       "      <td>NSW</td>\n",
       "      <td>2018-08-01T01:13:45.000+0000</td>\n",
       "      <td>14.19</td>\n",
       "      <td>13270a2a902145da9db4c951e04b51b9</td>\n",
       "      <td>Australia</td>\n",
       "      <td>CUS-2487424745</td>\n",
       "      <td>151.21 -33.87</td>\n",
       "      <td>debit</td>\n",
       "    </tr>\n",
       "    <tr>\n",
       "      <th>2</th>\n",
       "      <td>authorized</td>\n",
       "      <td>1.0</td>\n",
       "      <td>NaN</td>\n",
       "      <td>ACC-1222300524</td>\n",
       "      <td>AUD</td>\n",
       "      <td>151.23 -33.94</td>\n",
       "      <td>POS</td>\n",
       "      <td>835c231d-8cdf-4e96-859d-e9d571760cf0</td>\n",
       "      <td>NaN</td>\n",
       "      <td>Michael</td>\n",
       "      <td>...</td>\n",
       "      <td>38</td>\n",
       "      <td>Sydney</td>\n",
       "      <td>NSW</td>\n",
       "      <td>2018-08-01T01:26:15.000+0000</td>\n",
       "      <td>6.42</td>\n",
       "      <td>feb79e7ecd7048a5a36ec889d1a94270</td>\n",
       "      <td>Australia</td>\n",
       "      <td>CUS-2142601169</td>\n",
       "      <td>151.21 -33.87</td>\n",
       "      <td>debit</td>\n",
       "    </tr>\n",
       "    <tr>\n",
       "      <th>3</th>\n",
       "      <td>authorized</td>\n",
       "      <td>1.0</td>\n",
       "      <td>NaN</td>\n",
       "      <td>ACC-1037050564</td>\n",
       "      <td>AUD</td>\n",
       "      <td>153.10 -27.66</td>\n",
       "      <td>SALES-POS</td>\n",
       "      <td>48514682-c78a-4a88-b0da-2d6302e64673</td>\n",
       "      <td>NaN</td>\n",
       "      <td>Rhonda</td>\n",
       "      <td>...</td>\n",
       "      <td>40</td>\n",
       "      <td>Buderim</td>\n",
       "      <td>QLD</td>\n",
       "      <td>2018-08-01T01:38:45.000+0000</td>\n",
       "      <td>40.90</td>\n",
       "      <td>2698170da3704fd981b15e64a006079e</td>\n",
       "      <td>Australia</td>\n",
       "      <td>CUS-1614226872</td>\n",
       "      <td>153.05 -26.68</td>\n",
       "      <td>debit</td>\n",
       "    </tr>\n",
       "    <tr>\n",
       "      <th>4</th>\n",
       "      <td>authorized</td>\n",
       "      <td>1.0</td>\n",
       "      <td>NaN</td>\n",
       "      <td>ACC-1598451071</td>\n",
       "      <td>AUD</td>\n",
       "      <td>153.41 -27.95</td>\n",
       "      <td>SALES-POS</td>\n",
       "      <td>b4e02c10-0852-4273-b8fd-7b3395e32eb0</td>\n",
       "      <td>NaN</td>\n",
       "      <td>Diana</td>\n",
       "      <td>...</td>\n",
       "      <td>26</td>\n",
       "      <td>Mermaid Beach</td>\n",
       "      <td>QLD</td>\n",
       "      <td>2018-08-01T01:51:15.000+0000</td>\n",
       "      <td>3.25</td>\n",
       "      <td>329adf79878c4cf0aeb4188b4691c266</td>\n",
       "      <td>Australia</td>\n",
       "      <td>CUS-2487424745</td>\n",
       "      <td>153.44 -28.06</td>\n",
       "      <td>debit</td>\n",
       "    </tr>\n",
       "  </tbody>\n",
       "</table>\n",
       "<p>5 rows × 23 columns</p>\n",
       "</div>"
      ],
      "text/plain": [
       "       status  card_present_flag bpay_biller_code         account currency  \\\n",
       "0  authorized                1.0              NaN  ACC-1598451071      AUD   \n",
       "1  authorized                0.0              NaN  ACC-1598451071      AUD   \n",
       "2  authorized                1.0              NaN  ACC-1222300524      AUD   \n",
       "3  authorized                1.0              NaN  ACC-1037050564      AUD   \n",
       "4  authorized                1.0              NaN  ACC-1598451071      AUD   \n",
       "\n",
       "        long_lat txn_description                           merchant_id  \\\n",
       "0  153.41 -27.95             POS  81c48296-73be-44a7-befa-d053f48ce7cd   \n",
       "1  153.41 -27.95       SALES-POS  830a451c-316e-4a6a-bf25-e37caedca49e   \n",
       "2  151.23 -33.94             POS  835c231d-8cdf-4e96-859d-e9d571760cf0   \n",
       "3  153.10 -27.66       SALES-POS  48514682-c78a-4a88-b0da-2d6302e64673   \n",
       "4  153.41 -27.95       SALES-POS  b4e02c10-0852-4273-b8fd-7b3395e32eb0   \n",
       "\n",
       "   merchant_code first_name  ...  age merchant_suburb merchant_state  \\\n",
       "0            NaN      Diana  ...   26         Ashmore            QLD   \n",
       "1            NaN      Diana  ...   26          Sydney            NSW   \n",
       "2            NaN    Michael  ...   38          Sydney            NSW   \n",
       "3            NaN     Rhonda  ...   40         Buderim            QLD   \n",
       "4            NaN      Diana  ...   26   Mermaid Beach            QLD   \n",
       "\n",
       "                     extraction amount                    transaction_id  \\\n",
       "0  2018-08-01T01:01:15.000+0000  16.25  a623070bfead4541a6b0fff8a09e706c   \n",
       "1  2018-08-01T01:13:45.000+0000  14.19  13270a2a902145da9db4c951e04b51b9   \n",
       "2  2018-08-01T01:26:15.000+0000   6.42  feb79e7ecd7048a5a36ec889d1a94270   \n",
       "3  2018-08-01T01:38:45.000+0000  40.90  2698170da3704fd981b15e64a006079e   \n",
       "4  2018-08-01T01:51:15.000+0000   3.25  329adf79878c4cf0aeb4188b4691c266   \n",
       "\n",
       "     country     customer_id merchant_long_lat movement  \n",
       "0  Australia  CUS-2487424745     153.38 -27.99    debit  \n",
       "1  Australia  CUS-2487424745     151.21 -33.87    debit  \n",
       "2  Australia  CUS-2142601169     151.21 -33.87    debit  \n",
       "3  Australia  CUS-1614226872     153.05 -26.68    debit  \n",
       "4  Australia  CUS-2487424745     153.44 -28.06    debit  \n",
       "\n",
       "[5 rows x 23 columns]"
      ]
     },
     "execution_count": 4,
     "metadata": {},
     "output_type": "execute_result"
    }
   ],
   "source": [
    "#Checking the dataframe for the data.\n",
    "df.head()"
   ]
  },
  {
   "cell_type": "markdown",
   "id": "c90d16f5",
   "metadata": {},
   "source": [
    "### Data Frame Summary"
   ]
  },
  {
   "cell_type": "code",
   "execution_count": 5,
   "id": "e621d0a6",
   "metadata": {},
   "outputs": [
    {
     "name": "stdout",
     "output_type": "stream",
     "text": [
      "<class 'pandas.core.frame.DataFrame'>\n",
      "RangeIndex: 12043 entries, 0 to 12042\n",
      "Data columns (total 23 columns):\n",
      " #   Column             Non-Null Count  Dtype         \n",
      "---  ------             --------------  -----         \n",
      " 0   status             12043 non-null  object        \n",
      " 1   card_present_flag  7717 non-null   float64       \n",
      " 2   bpay_biller_code   885 non-null    object        \n",
      " 3   account            12043 non-null  object        \n",
      " 4   currency           12043 non-null  object        \n",
      " 5   long_lat           12043 non-null  object        \n",
      " 6   txn_description    12043 non-null  object        \n",
      " 7   merchant_id        7717 non-null   object        \n",
      " 8   merchant_code      883 non-null    float64       \n",
      " 9   first_name         12043 non-null  object        \n",
      " 10  balance            12043 non-null  float64       \n",
      " 11  date               12043 non-null  datetime64[ns]\n",
      " 12  gender             12043 non-null  object        \n",
      " 13  age                12043 non-null  int64         \n",
      " 14  merchant_suburb    7717 non-null   object        \n",
      " 15  merchant_state     7717 non-null   object        \n",
      " 16  extraction         12043 non-null  object        \n",
      " 17  amount             12043 non-null  float64       \n",
      " 18  transaction_id     12043 non-null  object        \n",
      " 19  country            12043 non-null  object        \n",
      " 20  customer_id        12043 non-null  object        \n",
      " 21  merchant_long_lat  7717 non-null   object        \n",
      " 22  movement           12043 non-null  object        \n",
      "dtypes: datetime64[ns](1), float64(4), int64(1), object(17)\n",
      "memory usage: 2.1+ MB\n"
     ]
    }
   ],
   "source": [
    "df.info()"
   ]
  },
  {
   "cell_type": "code",
   "execution_count": 6,
   "id": "66c202d4",
   "metadata": {},
   "outputs": [
    {
     "data": {
      "text/plain": [
       "(12043, 23)"
      ]
     },
     "execution_count": 6,
     "metadata": {},
     "output_type": "execute_result"
    }
   ],
   "source": [
    "df.shape"
   ]
  },
  {
   "cell_type": "code",
   "execution_count": 7,
   "id": "00a36dd6",
   "metadata": {},
   "outputs": [
    {
     "data": {
      "text/html": [
       "<div>\n",
       "<style scoped>\n",
       "    .dataframe tbody tr th:only-of-type {\n",
       "        vertical-align: middle;\n",
       "    }\n",
       "\n",
       "    .dataframe tbody tr th {\n",
       "        vertical-align: top;\n",
       "    }\n",
       "\n",
       "    .dataframe thead th {\n",
       "        text-align: right;\n",
       "    }\n",
       "</style>\n",
       "<table border=\"1\" class=\"dataframe\">\n",
       "  <thead>\n",
       "    <tr style=\"text-align: right;\">\n",
       "      <th></th>\n",
       "      <th>card_present_flag</th>\n",
       "      <th>merchant_code</th>\n",
       "      <th>balance</th>\n",
       "      <th>age</th>\n",
       "      <th>amount</th>\n",
       "    </tr>\n",
       "  </thead>\n",
       "  <tbody>\n",
       "    <tr>\n",
       "      <th>count</th>\n",
       "      <td>7717.000000</td>\n",
       "      <td>883.0</td>\n",
       "      <td>12043.000000</td>\n",
       "      <td>12043.000000</td>\n",
       "      <td>12043.000000</td>\n",
       "    </tr>\n",
       "    <tr>\n",
       "      <th>mean</th>\n",
       "      <td>0.802644</td>\n",
       "      <td>0.0</td>\n",
       "      <td>14704.195553</td>\n",
       "      <td>30.582330</td>\n",
       "      <td>187.933588</td>\n",
       "    </tr>\n",
       "    <tr>\n",
       "      <th>std</th>\n",
       "      <td>0.398029</td>\n",
       "      <td>0.0</td>\n",
       "      <td>31503.722652</td>\n",
       "      <td>10.046343</td>\n",
       "      <td>592.599934</td>\n",
       "    </tr>\n",
       "    <tr>\n",
       "      <th>min</th>\n",
       "      <td>0.000000</td>\n",
       "      <td>0.0</td>\n",
       "      <td>0.240000</td>\n",
       "      <td>18.000000</td>\n",
       "      <td>0.100000</td>\n",
       "    </tr>\n",
       "    <tr>\n",
       "      <th>25%</th>\n",
       "      <td>1.000000</td>\n",
       "      <td>0.0</td>\n",
       "      <td>3158.585000</td>\n",
       "      <td>22.000000</td>\n",
       "      <td>16.000000</td>\n",
       "    </tr>\n",
       "    <tr>\n",
       "      <th>50%</th>\n",
       "      <td>1.000000</td>\n",
       "      <td>0.0</td>\n",
       "      <td>6432.010000</td>\n",
       "      <td>28.000000</td>\n",
       "      <td>29.000000</td>\n",
       "    </tr>\n",
       "    <tr>\n",
       "      <th>75%</th>\n",
       "      <td>1.000000</td>\n",
       "      <td>0.0</td>\n",
       "      <td>12465.945000</td>\n",
       "      <td>38.000000</td>\n",
       "      <td>53.655000</td>\n",
       "    </tr>\n",
       "    <tr>\n",
       "      <th>max</th>\n",
       "      <td>1.000000</td>\n",
       "      <td>0.0</td>\n",
       "      <td>267128.520000</td>\n",
       "      <td>78.000000</td>\n",
       "      <td>8835.980000</td>\n",
       "    </tr>\n",
       "  </tbody>\n",
       "</table>\n",
       "</div>"
      ],
      "text/plain": [
       "       card_present_flag  merchant_code        balance           age  \\\n",
       "count        7717.000000          883.0   12043.000000  12043.000000   \n",
       "mean            0.802644            0.0   14704.195553     30.582330   \n",
       "std             0.398029            0.0   31503.722652     10.046343   \n",
       "min             0.000000            0.0       0.240000     18.000000   \n",
       "25%             1.000000            0.0    3158.585000     22.000000   \n",
       "50%             1.000000            0.0    6432.010000     28.000000   \n",
       "75%             1.000000            0.0   12465.945000     38.000000   \n",
       "max             1.000000            0.0  267128.520000     78.000000   \n",
       "\n",
       "             amount  \n",
       "count  12043.000000  \n",
       "mean     187.933588  \n",
       "std      592.599934  \n",
       "min        0.100000  \n",
       "25%       16.000000  \n",
       "50%       29.000000  \n",
       "75%       53.655000  \n",
       "max     8835.980000  "
      ]
     },
     "execution_count": 7,
     "metadata": {},
     "output_type": "execute_result"
    }
   ],
   "source": [
    "df.describe()"
   ]
  },
  {
   "cell_type": "code",
   "execution_count": 8,
   "id": "907c532e",
   "metadata": {},
   "outputs": [
    {
     "name": "stdout",
     "output_type": "stream",
     "text": [
      "card_present_flag     4326\n",
      "bpay_biller_code     11158\n",
      "merchant_id           4326\n",
      "merchant_code        11160\n",
      "merchant_suburb       4326\n",
      "merchant_state        4326\n",
      "merchant_long_lat     4326\n",
      "dtype: int64\n"
     ]
    }
   ],
   "source": [
    "#checking missing values\n",
    "missing_df=df.isnull().sum()\n",
    "print(missing_df[missing_df>0])"
   ]
  },
  {
   "cell_type": "code",
   "execution_count": 9,
   "id": "e67ed833",
   "metadata": {},
   "outputs": [
    {
     "data": {
      "text/plain": [
       "status                0.000000\n",
       "card_present_flag    35.921282\n",
       "bpay_biller_code     92.651333\n",
       "account               0.000000\n",
       "currency              0.000000\n",
       "long_lat              0.000000\n",
       "txn_description       0.000000\n",
       "merchant_id          35.921282\n",
       "merchant_code        92.667940\n",
       "first_name            0.000000\n",
       "balance               0.000000\n",
       "date                  0.000000\n",
       "gender                0.000000\n",
       "age                   0.000000\n",
       "merchant_suburb      35.921282\n",
       "merchant_state       35.921282\n",
       "extraction            0.000000\n",
       "amount                0.000000\n",
       "transaction_id        0.000000\n",
       "country               0.000000\n",
       "customer_id           0.000000\n",
       "merchant_long_lat    35.921282\n",
       "movement              0.000000\n",
       "dtype: float64"
      ]
     },
     "execution_count": 9,
     "metadata": {},
     "output_type": "execute_result"
    }
   ],
   "source": [
    "#Checking the percentage of missing values\n",
    "percent_missing = df.isnull().sum() * 100 / len(df)\n",
    "percent_missing"
   ]
  },
  {
   "cell_type": "code",
   "execution_count": 10,
   "id": "f3cd0e1c",
   "metadata": {},
   "outputs": [
    {
     "data": {
      "text/plain": [
       "0"
      ]
     },
     "execution_count": 10,
     "metadata": {},
     "output_type": "execute_result"
    }
   ],
   "source": [
    "#checking for duplicated values\n",
    "df.duplicated().sum() "
   ]
  },
  {
   "cell_type": "code",
   "execution_count": 11,
   "id": "724c1743",
   "metadata": {},
   "outputs": [
    {
     "data": {
      "text/plain": [
       "status                   2\n",
       "card_present_flag        2\n",
       "bpay_biller_code         3\n",
       "account                100\n",
       "currency                 1\n",
       "long_lat               100\n",
       "txn_description          6\n",
       "merchant_id           5725\n",
       "merchant_code            1\n",
       "first_name              80\n",
       "balance              12006\n",
       "date                    91\n",
       "gender                   2\n",
       "age                     33\n",
       "merchant_suburb       1609\n",
       "merchant_state           8\n",
       "extraction            9442\n",
       "amount                4457\n",
       "transaction_id       12043\n",
       "country                  1\n",
       "customer_id            100\n",
       "merchant_long_lat     2703\n",
       "movement                 2\n",
       "dtype: int64"
      ]
     },
     "execution_count": 11,
     "metadata": {},
     "output_type": "execute_result"
    }
   ],
   "source": [
    "#checking for unique values\n",
    "df.nunique()"
   ]
  },
  {
   "cell_type": "code",
   "execution_count": 12,
   "id": "5733b062",
   "metadata": {},
   "outputs": [],
   "source": [
    "#dropping the columns\n",
    "df=df.drop(['bpay_biller_code', 'merchant_code'], axis = 1)"
   ]
  },
  {
   "cell_type": "markdown",
   "id": "cf1d9a44",
   "metadata": {},
   "source": [
    "##### Dropping these two columns as they have approximately 92% of the data missing."
   ]
  },
  {
   "cell_type": "markdown",
   "id": "1bdb4a66",
   "metadata": {},
   "source": [
    "### Missing Value Treatment "
   ]
  },
  {
   "cell_type": "code",
   "execution_count": 13,
   "id": "294ff292",
   "metadata": {},
   "outputs": [],
   "source": [
    "#using mode imputation\n",
    "df['card_present_flag']=df['card_present_flag'].fillna(df['card_present_flag'].mode()[0])\n",
    "df['merchant_id']=df['merchant_id'].fillna(df['merchant_id'].mode()[0])\n",
    "df['merchant_suburb']=df['merchant_suburb'].fillna(df['merchant_suburb'].mode()[0])\n",
    "df['merchant_state']=df['merchant_state'].fillna(df['merchant_state'].mode()[0])\n",
    "df['merchant_long_lat']=df['merchant_long_lat'].fillna(df['merchant_long_lat'].mode()[0])"
   ]
  },
  {
   "cell_type": "code",
   "execution_count": 14,
   "id": "b5dcdab3",
   "metadata": {},
   "outputs": [
    {
     "data": {
      "text/plain": [
       "status               0\n",
       "card_present_flag    0\n",
       "account              0\n",
       "currency             0\n",
       "long_lat             0\n",
       "txn_description      0\n",
       "merchant_id          0\n",
       "first_name           0\n",
       "balance              0\n",
       "date                 0\n",
       "gender               0\n",
       "age                  0\n",
       "merchant_suburb      0\n",
       "merchant_state       0\n",
       "extraction           0\n",
       "amount               0\n",
       "transaction_id       0\n",
       "country              0\n",
       "customer_id          0\n",
       "merchant_long_lat    0\n",
       "movement             0\n",
       "dtype: int64"
      ]
     },
     "execution_count": 14,
     "metadata": {},
     "output_type": "execute_result"
    }
   ],
   "source": [
    "df.isnull().sum()"
   ]
  },
  {
   "cell_type": "markdown",
   "id": "798e6d94",
   "metadata": {},
   "source": [
    "##### Now there are no missing values "
   ]
  },
  {
   "cell_type": "markdown",
   "id": "6b1cd2df",
   "metadata": {},
   "source": [
    "##### Dividing the data into categorical and numerical data"
   ]
  },
  {
   "cell_type": "code",
   "execution_count": 15,
   "id": "715fa04b",
   "metadata": {},
   "outputs": [
    {
     "data": {
      "text/html": [
       "<div>\n",
       "<style scoped>\n",
       "    .dataframe tbody tr th:only-of-type {\n",
       "        vertical-align: middle;\n",
       "    }\n",
       "\n",
       "    .dataframe tbody tr th {\n",
       "        vertical-align: top;\n",
       "    }\n",
       "\n",
       "    .dataframe thead th {\n",
       "        text-align: right;\n",
       "    }\n",
       "</style>\n",
       "<table border=\"1\" class=\"dataframe\">\n",
       "  <thead>\n",
       "    <tr style=\"text-align: right;\">\n",
       "      <th></th>\n",
       "      <th>status</th>\n",
       "      <th>account</th>\n",
       "      <th>currency</th>\n",
       "      <th>long_lat</th>\n",
       "      <th>txn_description</th>\n",
       "      <th>merchant_id</th>\n",
       "      <th>first_name</th>\n",
       "      <th>gender</th>\n",
       "      <th>merchant_suburb</th>\n",
       "      <th>merchant_state</th>\n",
       "      <th>extraction</th>\n",
       "      <th>transaction_id</th>\n",
       "      <th>country</th>\n",
       "      <th>customer_id</th>\n",
       "      <th>merchant_long_lat</th>\n",
       "      <th>movement</th>\n",
       "    </tr>\n",
       "  </thead>\n",
       "  <tbody>\n",
       "    <tr>\n",
       "      <th>0</th>\n",
       "      <td>authorized</td>\n",
       "      <td>ACC-1598451071</td>\n",
       "      <td>AUD</td>\n",
       "      <td>153.41 -27.95</td>\n",
       "      <td>POS</td>\n",
       "      <td>81c48296-73be-44a7-befa-d053f48ce7cd</td>\n",
       "      <td>Diana</td>\n",
       "      <td>F</td>\n",
       "      <td>Ashmore</td>\n",
       "      <td>QLD</td>\n",
       "      <td>2018-08-01T01:01:15.000+0000</td>\n",
       "      <td>a623070bfead4541a6b0fff8a09e706c</td>\n",
       "      <td>Australia</td>\n",
       "      <td>CUS-2487424745</td>\n",
       "      <td>153.38 -27.99</td>\n",
       "      <td>debit</td>\n",
       "    </tr>\n",
       "    <tr>\n",
       "      <th>1</th>\n",
       "      <td>authorized</td>\n",
       "      <td>ACC-1598451071</td>\n",
       "      <td>AUD</td>\n",
       "      <td>153.41 -27.95</td>\n",
       "      <td>SALES-POS</td>\n",
       "      <td>830a451c-316e-4a6a-bf25-e37caedca49e</td>\n",
       "      <td>Diana</td>\n",
       "      <td>F</td>\n",
       "      <td>Sydney</td>\n",
       "      <td>NSW</td>\n",
       "      <td>2018-08-01T01:13:45.000+0000</td>\n",
       "      <td>13270a2a902145da9db4c951e04b51b9</td>\n",
       "      <td>Australia</td>\n",
       "      <td>CUS-2487424745</td>\n",
       "      <td>151.21 -33.87</td>\n",
       "      <td>debit</td>\n",
       "    </tr>\n",
       "    <tr>\n",
       "      <th>2</th>\n",
       "      <td>authorized</td>\n",
       "      <td>ACC-1222300524</td>\n",
       "      <td>AUD</td>\n",
       "      <td>151.23 -33.94</td>\n",
       "      <td>POS</td>\n",
       "      <td>835c231d-8cdf-4e96-859d-e9d571760cf0</td>\n",
       "      <td>Michael</td>\n",
       "      <td>M</td>\n",
       "      <td>Sydney</td>\n",
       "      <td>NSW</td>\n",
       "      <td>2018-08-01T01:26:15.000+0000</td>\n",
       "      <td>feb79e7ecd7048a5a36ec889d1a94270</td>\n",
       "      <td>Australia</td>\n",
       "      <td>CUS-2142601169</td>\n",
       "      <td>151.21 -33.87</td>\n",
       "      <td>debit</td>\n",
       "    </tr>\n",
       "    <tr>\n",
       "      <th>3</th>\n",
       "      <td>authorized</td>\n",
       "      <td>ACC-1037050564</td>\n",
       "      <td>AUD</td>\n",
       "      <td>153.10 -27.66</td>\n",
       "      <td>SALES-POS</td>\n",
       "      <td>48514682-c78a-4a88-b0da-2d6302e64673</td>\n",
       "      <td>Rhonda</td>\n",
       "      <td>F</td>\n",
       "      <td>Buderim</td>\n",
       "      <td>QLD</td>\n",
       "      <td>2018-08-01T01:38:45.000+0000</td>\n",
       "      <td>2698170da3704fd981b15e64a006079e</td>\n",
       "      <td>Australia</td>\n",
       "      <td>CUS-1614226872</td>\n",
       "      <td>153.05 -26.68</td>\n",
       "      <td>debit</td>\n",
       "    </tr>\n",
       "    <tr>\n",
       "      <th>4</th>\n",
       "      <td>authorized</td>\n",
       "      <td>ACC-1598451071</td>\n",
       "      <td>AUD</td>\n",
       "      <td>153.41 -27.95</td>\n",
       "      <td>SALES-POS</td>\n",
       "      <td>b4e02c10-0852-4273-b8fd-7b3395e32eb0</td>\n",
       "      <td>Diana</td>\n",
       "      <td>F</td>\n",
       "      <td>Mermaid Beach</td>\n",
       "      <td>QLD</td>\n",
       "      <td>2018-08-01T01:51:15.000+0000</td>\n",
       "      <td>329adf79878c4cf0aeb4188b4691c266</td>\n",
       "      <td>Australia</td>\n",
       "      <td>CUS-2487424745</td>\n",
       "      <td>153.44 -28.06</td>\n",
       "      <td>debit</td>\n",
       "    </tr>\n",
       "  </tbody>\n",
       "</table>\n",
       "</div>"
      ],
      "text/plain": [
       "       status         account currency       long_lat txn_description  \\\n",
       "0  authorized  ACC-1598451071      AUD  153.41 -27.95             POS   \n",
       "1  authorized  ACC-1598451071      AUD  153.41 -27.95       SALES-POS   \n",
       "2  authorized  ACC-1222300524      AUD  151.23 -33.94             POS   \n",
       "3  authorized  ACC-1037050564      AUD  153.10 -27.66       SALES-POS   \n",
       "4  authorized  ACC-1598451071      AUD  153.41 -27.95       SALES-POS   \n",
       "\n",
       "                            merchant_id first_name gender merchant_suburb  \\\n",
       "0  81c48296-73be-44a7-befa-d053f48ce7cd      Diana      F         Ashmore   \n",
       "1  830a451c-316e-4a6a-bf25-e37caedca49e      Diana      F          Sydney   \n",
       "2  835c231d-8cdf-4e96-859d-e9d571760cf0    Michael      M          Sydney   \n",
       "3  48514682-c78a-4a88-b0da-2d6302e64673     Rhonda      F         Buderim   \n",
       "4  b4e02c10-0852-4273-b8fd-7b3395e32eb0      Diana      F   Mermaid Beach   \n",
       "\n",
       "  merchant_state                    extraction  \\\n",
       "0            QLD  2018-08-01T01:01:15.000+0000   \n",
       "1            NSW  2018-08-01T01:13:45.000+0000   \n",
       "2            NSW  2018-08-01T01:26:15.000+0000   \n",
       "3            QLD  2018-08-01T01:38:45.000+0000   \n",
       "4            QLD  2018-08-01T01:51:15.000+0000   \n",
       "\n",
       "                     transaction_id    country     customer_id  \\\n",
       "0  a623070bfead4541a6b0fff8a09e706c  Australia  CUS-2487424745   \n",
       "1  13270a2a902145da9db4c951e04b51b9  Australia  CUS-2487424745   \n",
       "2  feb79e7ecd7048a5a36ec889d1a94270  Australia  CUS-2142601169   \n",
       "3  2698170da3704fd981b15e64a006079e  Australia  CUS-1614226872   \n",
       "4  329adf79878c4cf0aeb4188b4691c266  Australia  CUS-2487424745   \n",
       "\n",
       "  merchant_long_lat movement  \n",
       "0     153.38 -27.99    debit  \n",
       "1     151.21 -33.87    debit  \n",
       "2     151.21 -33.87    debit  \n",
       "3     153.05 -26.68    debit  \n",
       "4     153.44 -28.06    debit  "
      ]
     },
     "execution_count": 15,
     "metadata": {},
     "output_type": "execute_result"
    }
   ],
   "source": [
    "cat_df=df.select_dtypes(include=object)\n",
    "cat_df.head()"
   ]
  },
  {
   "cell_type": "code",
   "execution_count": 16,
   "id": "e21ef070",
   "metadata": {},
   "outputs": [
    {
     "data": {
      "text/plain": [
       "Index(['status', 'account', 'currency', 'long_lat', 'txn_description',\n",
       "       'merchant_id', 'first_name', 'gender', 'merchant_suburb',\n",
       "       'merchant_state', 'extraction', 'transaction_id', 'country',\n",
       "       'customer_id', 'merchant_long_lat', 'movement'],\n",
       "      dtype='object')"
      ]
     },
     "execution_count": 16,
     "metadata": {},
     "output_type": "execute_result"
    }
   ],
   "source": [
    "cat_df.columns"
   ]
  },
  {
   "cell_type": "code",
   "execution_count": 17,
   "id": "0251ef39",
   "metadata": {},
   "outputs": [
    {
     "data": {
      "text/html": [
       "<div>\n",
       "<style scoped>\n",
       "    .dataframe tbody tr th:only-of-type {\n",
       "        vertical-align: middle;\n",
       "    }\n",
       "\n",
       "    .dataframe tbody tr th {\n",
       "        vertical-align: top;\n",
       "    }\n",
       "\n",
       "    .dataframe thead th {\n",
       "        text-align: right;\n",
       "    }\n",
       "</style>\n",
       "<table border=\"1\" class=\"dataframe\">\n",
       "  <thead>\n",
       "    <tr style=\"text-align: right;\">\n",
       "      <th></th>\n",
       "      <th>card_present_flag</th>\n",
       "      <th>balance</th>\n",
       "      <th>date</th>\n",
       "      <th>age</th>\n",
       "      <th>amount</th>\n",
       "    </tr>\n",
       "  </thead>\n",
       "  <tbody>\n",
       "    <tr>\n",
       "      <th>0</th>\n",
       "      <td>1.0</td>\n",
       "      <td>35.39</td>\n",
       "      <td>2018-08-01</td>\n",
       "      <td>26</td>\n",
       "      <td>16.25</td>\n",
       "    </tr>\n",
       "    <tr>\n",
       "      <th>1</th>\n",
       "      <td>0.0</td>\n",
       "      <td>21.20</td>\n",
       "      <td>2018-08-01</td>\n",
       "      <td>26</td>\n",
       "      <td>14.19</td>\n",
       "    </tr>\n",
       "    <tr>\n",
       "      <th>2</th>\n",
       "      <td>1.0</td>\n",
       "      <td>5.71</td>\n",
       "      <td>2018-08-01</td>\n",
       "      <td>38</td>\n",
       "      <td>6.42</td>\n",
       "    </tr>\n",
       "    <tr>\n",
       "      <th>3</th>\n",
       "      <td>1.0</td>\n",
       "      <td>2117.22</td>\n",
       "      <td>2018-08-01</td>\n",
       "      <td>40</td>\n",
       "      <td>40.90</td>\n",
       "    </tr>\n",
       "    <tr>\n",
       "      <th>4</th>\n",
       "      <td>1.0</td>\n",
       "      <td>17.95</td>\n",
       "      <td>2018-08-01</td>\n",
       "      <td>26</td>\n",
       "      <td>3.25</td>\n",
       "    </tr>\n",
       "  </tbody>\n",
       "</table>\n",
       "</div>"
      ],
      "text/plain": [
       "   card_present_flag  balance       date  age  amount\n",
       "0                1.0    35.39 2018-08-01   26   16.25\n",
       "1                0.0    21.20 2018-08-01   26   14.19\n",
       "2                1.0     5.71 2018-08-01   38    6.42\n",
       "3                1.0  2117.22 2018-08-01   40   40.90\n",
       "4                1.0    17.95 2018-08-01   26    3.25"
      ]
     },
     "execution_count": 17,
     "metadata": {},
     "output_type": "execute_result"
    }
   ],
   "source": [
    "num_df=df.select_dtypes(exclude=object)\n",
    "num_df.head()"
   ]
  },
  {
   "cell_type": "code",
   "execution_count": 18,
   "id": "570539fb",
   "metadata": {},
   "outputs": [
    {
     "data": {
      "text/plain": [
       "Index(['card_present_flag', 'balance', 'date', 'age', 'amount'], dtype='object')"
      ]
     },
     "execution_count": 18,
     "metadata": {},
     "output_type": "execute_result"
    }
   ],
   "source": [
    "num_df.columns"
   ]
  },
  {
   "cell_type": "markdown",
   "id": "a258e158",
   "metadata": {},
   "source": [
    "### Data Transformation"
   ]
  },
  {
   "cell_type": "code",
   "execution_count": 19,
   "id": "86e7f3ad",
   "metadata": {},
   "outputs": [],
   "source": [
    "#converting the date to date type from datetime\n",
    "df['date'] = pd.to_datetime(df['date'])"
   ]
  },
  {
   "cell_type": "code",
   "execution_count": 20,
   "id": "b0cc2cbc",
   "metadata": {},
   "outputs": [
    {
     "data": {
      "text/plain": [
       "0   2018-08-01\n",
       "1   2018-08-01\n",
       "2   2018-08-01\n",
       "3   2018-08-01\n",
       "4   2018-08-01\n",
       "Name: date, dtype: datetime64[ns]"
      ]
     },
     "execution_count": 20,
     "metadata": {},
     "output_type": "execute_result"
    }
   ],
   "source": [
    "df['date'].head()"
   ]
  },
  {
   "cell_type": "code",
   "execution_count": 21,
   "id": "333ef952",
   "metadata": {},
   "outputs": [
    {
     "data": {
      "text/plain": [
       "0    Wednesday\n",
       "1    Wednesday\n",
       "2    Wednesday\n",
       "3    Wednesday\n",
       "4    Wednesday\n",
       "Name: day_name, dtype: object"
      ]
     },
     "execution_count": 21,
     "metadata": {},
     "output_type": "execute_result"
    }
   ],
   "source": [
    "#Taking out the weekday name using date\n",
    "df['day_name'] = df['date'].dt.day_name()\n",
    "df['day_name'].head()"
   ]
  },
  {
   "cell_type": "code",
   "execution_count": 22,
   "id": "de40fe81",
   "metadata": {},
   "outputs": [
    {
     "data": {
      "text/plain": [
       "0    August\n",
       "1    August\n",
       "2    August\n",
       "3    August\n",
       "4    August\n",
       "Name: month_name, dtype: object"
      ]
     },
     "execution_count": 22,
     "metadata": {},
     "output_type": "execute_result"
    }
   ],
   "source": [
    "# Creating Month by using the date \n",
    "df['month_name'] = df['date'].dt.month_name()\n",
    "df['month_name'].head()"
   ]
  },
  {
   "cell_type": "code",
   "execution_count": 23,
   "id": "ce046812",
   "metadata": {},
   "outputs": [
    {
     "data": {
      "text/plain": [
       "October      4087\n",
       "September    4013\n",
       "August       3943\n",
       "Name: month_name, dtype: int64"
      ]
     },
     "execution_count": 23,
     "metadata": {},
     "output_type": "execute_result"
    }
   ],
   "source": [
    "# Checking out available months generated from the date give\n",
    "df['month_name'].value_counts()"
   ]
  },
  {
   "cell_type": "markdown",
   "id": "43514ed6",
   "metadata": {},
   "source": [
    "### Exploratory Data Analysis"
   ]
  },
  {
   "cell_type": "code",
   "execution_count": 24,
   "id": "2935c083",
   "metadata": {},
   "outputs": [
    {
     "data": {
      "text/plain": [
       "<AxesSubplot:xlabel='card_present_flag', ylabel='count'>"
      ]
     },
     "execution_count": 24,
     "metadata": {},
     "output_type": "execute_result"
    },
    {
     "data": {
      "image/png": "[encoded data removed]",
      "text/plain": [
       "<Figure size 432x288 with 1 Axes>"
      ]
     },
     "metadata": {
      "needs_background": "light"
     },
     "output_type": "display_data"
    }
   ],
   "source": [
    "sns.countplot(x = 'card_present_flag', data = df)"
   ]
  },
  {
   "cell_type": "markdown",
   "id": "42a4ace3",
   "metadata": {},
   "source": [
    "##### Most of the customers had their card during the time of transaction."
   ]
  },
  {
   "cell_type": "code",
   "execution_count": 25,
   "id": "5f732446",
   "metadata": {},
   "outputs": [
    {
     "data": {
      "text/plain": [
       "(array([1.0751e+04, 6.9000e+02, 3.1300e+02, 2.1000e+01, 5.0000e+01,\n",
       "        0.0000e+00, 7.0000e+00, 1.4400e+02, 0.0000e+00, 6.7000e+01]),\n",
       " array([2.40000000e-01, 2.67130680e+04, 5.34258960e+04, 8.01387240e+04,\n",
       "        1.06851552e+05, 1.33564380e+05, 1.60277208e+05, 1.86990036e+05,\n",
       "        2.13702864e+05, 2.40415692e+05, 2.67128520e+05]),\n",
       " <BarContainer object of 10 artists>)"
      ]
     },
     "execution_count": 25,
     "metadata": {},
     "output_type": "execute_result"
    },
    {
     "data": {
      "image/png": "[encoded data removed]",
      "text/plain": [
       "<Figure size 432x288 with 1 Axes>"
      ]
     },
     "metadata": {
      "needs_background": "light"
     },
     "output_type": "display_data"
    }
   ],
   "source": [
    "plt.hist(x = 'balance', data = df,color=\"navy\")"
   ]
  },
  {
   "cell_type": "markdown",
   "id": "60356056",
   "metadata": {},
   "source": [
    "##### The balance of most customers lie between 0 to 50,000(in dollars)."
   ]
  },
  {
   "cell_type": "code",
   "execution_count": 26,
   "id": "2f490aa2",
   "metadata": {},
   "outputs": [
    {
     "data": {
      "text/plain": [
       "(array([3341., 3131., 1874., 2151., 1128.,  194.,    0.,   88.,  102.,\n",
       "          34.]),\n",
       " array([18., 24., 30., 36., 42., 48., 54., 60., 66., 72., 78.]),\n",
       " <BarContainer object of 10 artists>)"
      ]
     },
     "execution_count": 26,
     "metadata": {},
     "output_type": "execute_result"
    },
    {
     "data": {
      "image/png": "[encoded data removed]",
      "text/plain": [
       "<Figure size 432x288 with 1 Axes>"
      ]
     },
     "metadata": {
      "needs_background": "light"
     },
     "output_type": "display_data"
    }
   ],
   "source": [
    "plt.hist(x = 'age', data = df, color=\"steelblue\")"
   ]
  },
  {
   "cell_type": "markdown",
   "id": "537efc42",
   "metadata": {},
   "source": [
    "##### Most customers lie in the age group of 20-30 followed by 30-40&40-50. "
   ]
  },
  {
   "cell_type": "code",
   "execution_count": 27,
   "id": "538eed3e",
   "metadata": {},
   "outputs": [
    {
     "data": {
      "text/plain": [
       "(array([1.1176e+04, 4.7200e+02, 2.2100e+02, 7.6000e+01, 8.0000e+01,\n",
       "        9.0000e+00, 4.0000e+00, 0.0000e+00, 1.0000e+00, 4.0000e+00]),\n",
       " array([1.000000e-01, 8.836880e+02, 1.767276e+03, 2.650864e+03,\n",
       "        3.534452e+03, 4.418040e+03, 5.301628e+03, 6.185216e+03,\n",
       "        7.068804e+03, 7.952392e+03, 8.835980e+03]),\n",
       " <BarContainer object of 10 artists>)"
      ]
     },
     "execution_count": 27,
     "metadata": {},
     "output_type": "execute_result"
    },
    {
     "data": {
      "image/png": "[encoded data removed]",
      "text/plain": [
       "<Figure size 432x288 with 1 Axes>"
      ]
     },
     "metadata": {
      "needs_background": "light"
     },
     "output_type": "display_data"
    }
   ],
   "source": [
    "plt.hist(x = 'amount', data = df,color=\"olive\")"
   ]
  },
  {
   "cell_type": "markdown",
   "id": "fb2a84e1",
   "metadata": {},
   "source": [
    "#### Most customers transacted for 0 to 2000(in dollars). "
   ]
  },
  {
   "cell_type": "code",
   "execution_count": 28,
   "id": "00dea8bf",
   "metadata": {},
   "outputs": [
    {
     "data": {
      "text/plain": [
       "<AxesSubplot:xlabel='status', ylabel='count'>"
      ]
     },
     "execution_count": 28,
     "metadata": {},
     "output_type": "execute_result"
    },
    {
     "data": {
      "image/png": "[encoded data removed]",
      "text/plain": [
       "<Figure size 432x288 with 1 Axes>"
      ]
     },
     "metadata": {
      "needs_background": "light"
     },
     "output_type": "display_data"
    }
   ],
   "source": [
    "sns.countplot(data=df,x='status')"
   ]
  },
  {
   "cell_type": "code",
   "execution_count": 29,
   "id": "c58f97ab",
   "metadata": {},
   "outputs": [
    {
     "data": {
      "text/plain": [
       "authorized    64.078718\n",
       "posted        35.921282\n",
       "Name: status, dtype: float64"
      ]
     },
     "execution_count": 29,
     "metadata": {},
     "output_type": "execute_result"
    }
   ],
   "source": [
    "df['status'].value_counts(normalize=True)*100"
   ]
  },
  {
   "cell_type": "markdown",
   "id": "6a798835",
   "metadata": {},
   "source": [
    "##### 64% of the transactions were authorized and roughly 36% were posted."
   ]
  },
  {
   "cell_type": "code",
   "execution_count": 30,
   "id": "5eea5b20",
   "metadata": {},
   "outputs": [
    {
     "data": {
      "text/plain": [
       "<Figure size 1440x360 with 0 Axes>"
      ]
     },
     "execution_count": 30,
     "metadata": {},
     "output_type": "execute_result"
    },
    {
     "data": {
      "image/png": "[encoded data removed]",
      "text/plain": [
       "<Figure size 432x288 with 1 Axes>"
      ]
     },
     "metadata": {
      "needs_background": "light"
     },
     "output_type": "display_data"
    },
    {
     "data": {
      "text/plain": [
       "<Figure size 1440x360 with 0 Axes>"
      ]
     },
     "metadata": {},
     "output_type": "display_data"
    }
   ],
   "source": [
    "sns.countplot(data=df,x='txn_description')\n",
    "plt.figure(figsize=(20,5))"
   ]
  },
  {
   "cell_type": "code",
   "execution_count": 31,
   "id": "744fd470",
   "metadata": {},
   "outputs": [
    {
     "data": {
      "text/plain": [
       "SALES-POS     32.666279\n",
       "POS           31.412439\n",
       "PAYMENT       21.589305\n",
       "PAY/SALARY     7.332060\n",
       "INTER BANK     6.161256\n",
       "PHONE BANK     0.838661\n",
       "Name: txn_description, dtype: float64"
      ]
     },
     "execution_count": 31,
     "metadata": {},
     "output_type": "execute_result"
    }
   ],
   "source": [
    "df['txn_description'].value_counts(normalize=True)*100"
   ]
  },
  {
   "cell_type": "markdown",
   "id": "8ba7e817",
   "metadata": {},
   "source": [
    "##### Higher transactions were from sales-pos followed by pos and payment."
   ]
  },
  {
   "cell_type": "code",
   "execution_count": 32,
   "id": "50ad5880",
   "metadata": {},
   "outputs": [
    {
     "data": {
      "text/plain": [
       "<AxesSubplot:xlabel='merchant_state', ylabel='count'>"
      ]
     },
     "execution_count": 32,
     "metadata": {},
     "output_type": "execute_result"
    },
    {
     "data": {
      "image/png": "[encoded data removed]",
      "text/plain": [
       "<Figure size 432x288 with 1 Axes>"
      ]
     },
     "metadata": {
      "needs_background": "light"
     },
     "output_type": "display_data"
    }
   ],
   "source": [
    "sns.countplot(data=df,x='merchant_state')"
   ]
  },
  {
   "cell_type": "markdown",
   "id": "82af5a63",
   "metadata": {},
   "source": [
    "##### The highest transactions are from NSW . "
   ]
  },
  {
   "cell_type": "code",
   "execution_count": 33,
   "id": "ccf47ed7",
   "metadata": {},
   "outputs": [
    {
     "data": {
      "text/plain": [
       "<AxesSubplot:xlabel='movement', ylabel='count'>"
      ]
     },
     "execution_count": 33,
     "metadata": {},
     "output_type": "execute_result"
    },
    {
     "data": {
      "image/png": "[encoded data removed]",
      "text/plain": [
       "<Figure size 432x288 with 1 Axes>"
      ]
     },
     "metadata": {
      "needs_background": "light"
     },
     "output_type": "display_data"
    }
   ],
   "source": [
    "sns.countplot(data=df,x='movement')"
   ]
  },
  {
   "cell_type": "code",
   "execution_count": 34,
   "id": "41383626",
   "metadata": {},
   "outputs": [
    {
     "data": {
      "text/plain": [
       "debit     92.66794\n",
       "credit     7.33206\n",
       "Name: movement, dtype: float64"
      ]
     },
     "execution_count": 34,
     "metadata": {},
     "output_type": "execute_result"
    }
   ],
   "source": [
    "df['movement'].value_counts(normalize=True)*100"
   ]
  },
  {
   "cell_type": "markdown",
   "id": "4439aeb1",
   "metadata": {},
   "source": [
    "##### 92% of the transactions were made using debit card. "
   ]
  },
  {
   "cell_type": "code",
   "execution_count": 35,
   "id": "782443cd",
   "metadata": {},
   "outputs": [
    {
     "data": {
      "text/plain": [
       "<AxesSubplot:xlabel='gender', ylabel='count'>"
      ]
     },
     "execution_count": 35,
     "metadata": {},
     "output_type": "execute_result"
    },
    {
     "data": {
      "image/png": "[encoded data removed]",
      "text/plain": [
       "<Figure size 432x288 with 1 Axes>"
      ]
     },
     "metadata": {
      "needs_background": "light"
     },
     "output_type": "display_data"
    }
   ],
   "source": [
    "sns.countplot(data=df,x='gender')"
   ]
  },
  {
   "cell_type": "code",
   "execution_count": 36,
   "id": "82dbc1c3",
   "metadata": {},
   "outputs": [
    {
     "data": {
      "text/plain": [
       "M    52.187993\n",
       "F    47.812007\n",
       "Name: gender, dtype: float64"
      ]
     },
     "execution_count": 36,
     "metadata": {},
     "output_type": "execute_result"
    }
   ],
   "source": [
    "df['gender'].value_counts(normalize=True)*100"
   ]
  },
  {
   "cell_type": "markdown",
   "id": "27e215a1",
   "metadata": {},
   "source": [
    "##### Transactions from men and women were about same, while male transactions were somewhat slightly greater."
   ]
  },
  {
   "cell_type": "code",
   "execution_count": 37,
   "id": "e53ba041",
   "metadata": {},
   "outputs": [
    {
     "data": {
      "text/plain": [
       "<AxesSubplot:xlabel='month_name', ylabel='count'>"
      ]
     },
     "execution_count": 37,
     "metadata": {},
     "output_type": "execute_result"
    },
    {
     "data": {
      "image/png": "[encoded data removed]",
      "text/plain": [
       "<Figure size 432x288 with 1 Axes>"
      ]
     },
     "metadata": {
      "needs_background": "light"
     },
     "output_type": "display_data"
    }
   ],
   "source": [
    "sns.countplot(x='month_name' , data=df)"
   ]
  },
  {
   "cell_type": "markdown",
   "id": "be92078b",
   "metadata": {},
   "source": [
    "##### Transactions for each are approximately the same. "
   ]
  },
  {
   "cell_type": "code",
   "execution_count": 38,
   "id": "c0d22066",
   "metadata": {},
   "outputs": [
    {
     "data": {
      "text/plain": [
       "Text(0.5, 1.0, 'Gender vs Month_Name')"
      ]
     },
     "execution_count": 38,
     "metadata": {},
     "output_type": "execute_result"
    },
    {
     "data": {
      "image/png": "[encoded data removed]",
      "text/plain": [
       "<Figure size 720x360 with 1 Axes>"
      ]
     },
     "metadata": {
      "needs_background": "light"
     },
     "output_type": "display_data"
    }
   ],
   "source": [
    "plt.figure(figsize=(10,5))\n",
    "sns.countplot(x='month_name' ,hue='gender', data=df)\n",
    "plt.title(\"Gender vs Month_Name\")"
   ]
  },
  {
   "cell_type": "markdown",
   "id": "798bf953",
   "metadata": {},
   "source": [
    "##### The transactions of each month , male transactions were greater."
   ]
  },
  {
   "cell_type": "code",
   "execution_count": 39,
   "id": "5a26978a",
   "metadata": {},
   "outputs": [
    {
     "data": {
      "text/plain": [
       "<AxesSubplot:xlabel='day_name', ylabel='count'>"
      ]
     },
     "execution_count": 39,
     "metadata": {},
     "output_type": "execute_result"
    },
    {
     "data": {
      "image/png": "[encoded data removed]",
      "text/plain": [
       "<Figure size 720x360 with 1 Axes>"
      ]
     },
     "metadata": {
      "needs_background": "light"
     },
     "output_type": "display_data"
    }
   ],
   "source": [
    "plt.figure(figsize=(10,5))\n",
    "sns.countplot(x='day_name' , data=df)"
   ]
  },
  {
   "cell_type": "markdown",
   "id": "18531686",
   "metadata": {},
   "source": [
    "##### Transactions for Wednesday & Friday are higher."
   ]
  },
  {
   "cell_type": "code",
   "execution_count": 51,
   "id": "60f28c47",
   "metadata": {},
   "outputs": [
    {
     "data": {
      "text/plain": [
       "Text(0.5, 1.0, 'Gender vs Merchant State')"
      ]
     },
     "execution_count": 51,
     "metadata": {},
     "output_type": "execute_result"
    },
    {
     "data": {
      "image/png": "[encoded data removed]",
      "text/plain": [
       "<Figure size 720x360 with 1 Axes>"
      ]
     },
     "metadata": {
      "needs_background": "light"
     },
     "output_type": "display_data"
    }
   ],
   "source": [
    "plt.figure(figsize=(10,5))\n",
    "sns.countplot(x='merchant_state' ,hue='gender', data=df)\n",
    "plt.title(\"Gender vs Merchant State\")"
   ]
  },
  {
   "cell_type": "markdown",
   "id": "b90bafce",
   "metadata": {},
   "source": [
    "##### Transaction are higher from males residing in NSW. "
   ]
  },
  {
   "cell_type": "code",
   "execution_count": 41,
   "id": "ebc09f3c",
   "metadata": {},
   "outputs": [
    {
     "data": {
      "text/plain": [
       "Text(0.5, 1.0, 'Age vs Balance')"
      ]
     },
     "execution_count": 41,
     "metadata": {},
     "output_type": "execute_result"
    },
    {
     "data": {
      "image/png": "[encoded data removed]",
      "text/plain": [
       "<Figure size 720x360 with 1 Axes>"
      ]
     },
     "metadata": {
      "needs_background": "light"
     },
     "output_type": "display_data"
    }
   ],
   "source": [
    "#To figure which age group has more balance.\n",
    "plt.figure(figsize=(10,5))\n",
    "sns.lineplot(x='age' , y='balance' , data=df)\n",
    "plt.title(\"Age vs Balance\")"
   ]
  },
  {
   "cell_type": "markdown",
   "id": "c115a862",
   "metadata": {},
   "source": [
    "##### The age group from 40-50 have higher balance. "
   ]
  },
  {
   "cell_type": "code",
   "execution_count": 42,
   "id": "a2892261",
   "metadata": {},
   "outputs": [
    {
     "data": {
      "text/plain": [
       "Text(0.5, 1.0, 'Age vs Amount')"
      ]
     },
     "execution_count": 42,
     "metadata": {},
     "output_type": "execute_result"
    },
    {
     "data": {
      "image/png": "[encoded data removed]",
      "text/plain": [
       "<Figure size 720x360 with 1 Axes>"
      ]
     },
     "metadata": {
      "needs_background": "light"
     },
     "output_type": "display_data"
    }
   ],
   "source": [
    "#To figure out which age group has transacted more\n",
    "plt.figure(figsize=(10,5))\n",
    "sns.lineplot(x='age' , y='amount' , data=df)\n",
    "plt.title(\"Age vs Amount\")"
   ]
  },
  {
   "cell_type": "markdown",
   "id": "d7709bcb",
   "metadata": {},
   "source": [
    "##### Age group between 45 - 55 has transacted more amount above 400 (in dollars).\n",
    "##### Age group between 24-28 has transacted least amount approx 100 or above."
   ]
  },
  {
   "cell_type": "markdown",
   "id": "79659702",
   "metadata": {},
   "source": [
    "##### Top Customer"
   ]
  },
  {
   "cell_type": "code",
   "execution_count": 43,
   "id": "ef993372",
   "metadata": {},
   "outputs": [
    {
     "data": {
      "text/plain": [
       "Michael        746\n",
       "Diana          578\n",
       "Jessica        408\n",
       "Joseph         391\n",
       "Jeffrey        388\n",
       "Richard        364\n",
       "Kimberly       343\n",
       "Tonya          292\n",
       "Susan          282\n",
       "Christopher    263\n",
       "Name: first_name, dtype: int64"
      ]
     },
     "execution_count": 43,
     "metadata": {},
     "output_type": "execute_result"
    }
   ],
   "source": [
    "top_customer = df['first_name'].value_counts(sort=True).nlargest(10)\n",
    "top_customer"
   ]
  },
  {
   "cell_type": "code",
   "execution_count": 44,
   "id": "aabdfd1b",
   "metadata": {},
   "outputs": [
    {
     "data": {
      "text/plain": [
       "<AxesSubplot:>"
      ]
     },
     "execution_count": 44,
     "metadata": {},
     "output_type": "execute_result"
    },
    {
     "data": {
      "image/png": "[encoded data removed]",
      "text/plain": [
       "<Figure size 720x360 with 1 Axes>"
      ]
     },
     "metadata": {
      "needs_background": "light"
     },
     "output_type": "display_data"
    }
   ],
   "source": [
    "fig,ax = plt.subplots(figsize=(10,5))\n",
    "top_customer.plot.barh(color=\"thistle\")"
   ]
  },
  {
   "cell_type": "markdown",
   "id": "46cba340",
   "metadata": {},
   "source": [
    "#### Outlier Analysis & Treatment"
   ]
  },
  {
   "cell_type": "code",
   "execution_count": 45,
   "id": "66263a3c",
   "metadata": {},
   "outputs": [
    {
     "data": {
      "text/plain": [
       "<AxesSubplot:>"
      ]
     },
     "execution_count": 45,
     "metadata": {},
     "output_type": "execute_result"
    },
    {
     "data": {
      "image/png": "[encoded data removed]",
      "text/plain": [
       "<Figure size 1440x360 with 1 Axes>"
      ]
     },
     "metadata": {
      "needs_background": "light"
     },
     "output_type": "display_data"
    }
   ],
   "source": [
    "plt.figure(figsize=(20,5))\n",
    "sns.boxplot(data=df)"
   ]
  },
  {
   "cell_type": "markdown",
   "id": "7dc3dfa5",
   "metadata": {},
   "source": [
    "##### Balance has higher amount of outliers."
   ]
  },
  {
   "cell_type": "code",
   "execution_count": 46,
   "id": "a45a4e1f",
   "metadata": {},
   "outputs": [
    {
     "name": "stdout",
     "output_type": "stream",
     "text": [
      "card_present_flag       0.000\n",
      "balance              9307.360\n",
      "age                    16.000\n",
      "amount                 37.655\n",
      "dtype: float64\n"
     ]
    }
   ],
   "source": [
    "Q1 = df.quantile(0.25)\n",
    "Q3 = df.quantile(0.75)\n",
    "\n",
    "IQR = Q3 - Q1\n",
    "\n",
    "print(IQR)"
   ]
  },
  {
   "cell_type": "code",
   "execution_count": 47,
   "id": "2f649d78",
   "metadata": {},
   "outputs": [
    {
     "data": {
      "text/plain": [
       "Index(['card_present_flag', 'balance', 'age', 'amount'], dtype='object')"
      ]
     },
     "execution_count": 47,
     "metadata": {},
     "output_type": "execute_result"
    }
   ],
   "source": [
    "IQR.index"
   ]
  },
  {
   "cell_type": "code",
   "execution_count": 48,
   "id": "400739b8",
   "metadata": {},
   "outputs": [
    {
     "data": {
      "text/plain": [
       "(7730, 4)"
      ]
     },
     "execution_count": 48,
     "metadata": {},
     "output_type": "execute_result"
    }
   ],
   "source": [
    "df2 = df[['card_present_flag', 'balance', 'age', 'amount']]\n",
    "without_outliers = df2[~ ((df2 < (Q1 - 1.5 * IQR)) \\\n",
    "                                     | (df2 > (Q3 + 1.5 * IQR))).any(axis=1)]\n",
    "\n",
    "without_outliers.shape"
   ]
  },
  {
   "cell_type": "code",
   "execution_count": 49,
   "id": "383f6a31",
   "metadata": {},
   "outputs": [
    {
     "data": {
      "image/png": "[encoded data removed]",
      "text/plain": [
       "<Figure size 432x288 with 1 Axes>"
      ]
     },
     "metadata": {
      "needs_background": "light"
     },
     "output_type": "display_data"
    }
   ],
   "source": [
    "plt.hist(without_outliers['amount'])\n",
    "plt.title('Transaction Amount after removal of Outliers')\n",
    "plt.xlabel('Transaction Amount')\n",
    "plt.ylabel('Frequency')\n",
    "plt.show()"
   ]
  },
  {
   "cell_type": "code",
   "execution_count": 50,
   "id": "fd45e194",
   "metadata": {},
   "outputs": [
    {
     "data": {
      "text/plain": [
       "<AxesSubplot:>"
      ]
     },
     "execution_count": 50,
     "metadata": {},
     "output_type": "execute_result"
    },
    {
     "data": {
      "image/png": "[encoded data removed]",
      "text/plain": [
       "<Figure size 720x360 with 2 Axes>"
      ]
     },
     "metadata": {
      "needs_background": "light"
     },
     "output_type": "display_data"
    }
   ],
   "source": [
    "#Checking the correlation between all the numerical variables\n",
    "plt.figure(figsize=(10,5))\n",
    "sns.heatmap(df.corr(),annot=True)"
   ]
  },
  {
   "cell_type": "markdown",
   "id": "3e6decd6",
   "metadata": {},
   "source": [
    "##### There is little correlation between all the variables."
   ]
  },
  {
   "cell_type": "code",
   "execution_count": null,
   "id": "83e81c65",
   "metadata": {},
   "outputs": [],
   "source": []
  }
 ],
 "metadata": {
  "kernelspec": {
   "display_name": "Python 3",
   "language": "python",
   "name": "python3"
  },
  "language_info": {
   "codemirror_mode": {
    "name": "ipython",
    "version": 3
   },
   "file_extension": ".py",
   "mimetype": "text/x-python",
   "name": "python",
   "nbconvert_exporter": "python",
   "pygments_lexer": "ipython3",
   "version": "3.8.8"
  }
 },
 "nbformat": 4,
 "nbformat_minor": 5
}
